{
  "nbformat": 4,
  "nbformat_minor": 0,
  "metadata": {
    "colab": {
      "provenance": [],
      "toc_visible": true,
      "authorship_tag": "ABX9TyP4jakJKDqGwKSB3cHLp0XB",
      "include_colab_link": true
    },
    "kernelspec": {
      "name": "python3",
      "display_name": "Python 3"
    },
    "language_info": {
      "name": "python"
    }
  },
  "cells": [
    {
      "cell_type": "markdown",
      "metadata": {
        "id": "view-in-github",
        "colab_type": "text"
      },
      "source": [
        "<a href=\"https://colab.research.google.com/github/Tonnonssi/study_LinearAlgebra/blob/main/01.%20Gaussian%20Elimination.ipynb\" target=\"_parent\"><img src=\"https://colab.research.google.com/assets/colab-badge.svg\" alt=\"Open In Colab\"/></a>"
      ]
    },
    {
      "cell_type": "markdown",
      "source": [
        "# 01 Gaussian Elimination"
      ],
      "metadata": {
        "id": "BRwpN7oOVbzE"
      }
    },
    {
      "cell_type": "code",
      "execution_count": 44,
      "metadata": {
        "id": "IB7uFCorC0DX"
      },
      "outputs": [],
      "source": [
        "import numpy as np\n",
        "\n",
        "def find_1strow(column):\n",
        "    column = abs(column)\n",
        "    return np.min(column[np.nonzero(abs(column))])\n",
        "\n",
        "def gaussian_elimination(matrix):\n",
        "    process = ''\n",
        "    matrix = matrix.astype(np.float64)\n",
        "    \n",
        "    process += 'Input matrix\\n'\n",
        "    process += '--------------------------------\\n'\n",
        "    process += str(matrix)+'\\n\\n'\n",
        "\n",
        "    nrows, ncols = matrix.shape\n",
        "\n",
        "    # search homogeneous linear system \n",
        "    if (matrix[:,-1] == np.zeros(nrows)).all() and nrows < (ncols - 1):       \n",
        "        process += 'Answer\\n'\n",
        "        process += '--------------------------------\\n'\n",
        "        process += 'infinitely many solutions'\n",
        "        return process\n",
        "\n",
        "    # Perform Gaussian elimination\n",
        "    process += 'Process\\n'\n",
        "    process += '--------------------------------\\n'\n",
        "\n",
        "    for i in range(nrows):\n",
        "\n",
        "        if (matrix[i,:-1] == np.zeros((1,ncols-1))).all(): #REF을 만들면서 맨 마지막 행이 상수를 제외하고 전부 0이 될 때, 연산을 끝내기 위해\n",
        "            break\n",
        "\n",
        "        pivot = matrix[i, i]\n",
        "\n",
        "        if pivot == 0:            \n",
        "            min_num = find_1strow(matrix[:,i])\n",
        "            nrow = np.where(matrix[:,i] == min_num) #tuple\n",
        "            nrow = int(nrow[0])\n",
        "            matrix[i], matrix[nrow] = matrix[nrow].copy(), matrix[i].copy()\n",
        "            pivot = matrix[i, i]\n",
        "\n",
        "        matrix[i, :] /= pivot\n",
        "        for j in range(i+1, nrows):\n",
        "            matrix[j, :] -= matrix[j, i] * matrix[i, :]\n",
        "\n",
        "        process += str(matrix)+'\\n\\n'\n",
        "\n",
        "    ### Back substitution\n",
        "\n",
        "    for i in range(nrows): # no solution의 경우 탐색 \n",
        "        if (matrix[i,:-1] == np.zeros(ncols-1)).all() and matrix[-1,-1] != 0:\n",
        "            process += 'Answer\\n'\n",
        "            process += '--------------------------------\\n'\n",
        "            process += 'no solution'\n",
        "            return process\n",
        "            break\n",
        "\n",
        "    # infinitely many solutions 탐색 \n",
        "    int_nrows = nrows\n",
        "\n",
        "    for i in range(nrows-1,0,-1): # no solution의 경우 탐색 \n",
        "        if (matrix[i,:] == np.zeros(ncols)).all():\n",
        "            int_nrows -= 1\n",
        "        else:\n",
        "            break\n",
        "\n",
        "    if int_nrows < ncols-1:\n",
        "        process += 'Answer\\n'\n",
        "        process += '--------------------------------\\n'\n",
        "        process += 'infinitely many solutions'\n",
        "        return process        \n",
        "\n",
        "    ans = np.zeros(ncols-1)\n",
        "\n",
        "    point =  ncols - 2\n",
        "    while point >= 0:\n",
        "        for row in matrix[::-1]: \n",
        "            ans[point] += row[-1]\n",
        "            for i in range(ncols-2,-1,-1):\n",
        "                if i != point:\n",
        "                    ans[point] -= row[i]*ans[i]\n",
        "            point -= 1\n",
        "\n",
        "    process += 'Answer\\n'\n",
        "    process += '--------------------------------\\n'\n",
        "    process += str(ans)\n",
        "\n",
        "    return process"
      ]
    },
    {
      "cell_type": "markdown",
      "source": [
        "## 01's Test codes"
      ],
      "metadata": {
        "id": "M43RpWmKVjka"
      }
    },
    {
      "cell_type": "code",
      "source": [
        "arr = np.array([[0, 1, -1, 0],[1, 0, -3,-1],[-1, 3, 0, 1]])\n",
        "print(gaussian_elimination(arr))"
      ],
      "metadata": {
        "colab": {
          "base_uri": "https://localhost:8080/"
        },
        "id": "7dIFs0QxU1j0",
        "outputId": "b12453a0-0baa-4dfa-9b23-cc5b0705fc2b"
      },
      "execution_count": 45,
      "outputs": [
        {
          "output_type": "stream",
          "name": "stdout",
          "text": [
            "Input matrix\n",
            "--------------------------------\n",
            "[[ 0.  1. -1.  0.]\n",
            " [ 1.  0. -3. -1.]\n",
            " [-1.  3.  0.  1.]]\n",
            "\n",
            "Process\n",
            "--------------------------------\n",
            "[[ 1.  0. -3. -1.]\n",
            " [ 0.  1. -1.  0.]\n",
            " [ 0.  3. -3.  0.]]\n",
            "\n",
            "[[ 1.  0. -3. -1.]\n",
            " [ 0.  1. -1.  0.]\n",
            " [ 0.  0.  0.  0.]]\n",
            "\n",
            "Answer\n",
            "--------------------------------\n",
            "infinitely many solutions\n"
          ]
        }
      ]
    },
    {
      "cell_type": "code",
      "source": [
        "arr = np.array([[1,0,-3,-2],[3,1,-2,5],[2,2,1,4]]) # one solution\n",
        "print(gaussian_elimination(arr))"
      ],
      "metadata": {
        "colab": {
          "base_uri": "https://localhost:8080/"
        },
        "id": "vGp9vMDKOS1J",
        "outputId": "6d1ccca1-a807-4550-c933-e9132cef7932"
      },
      "execution_count": 46,
      "outputs": [
        {
          "output_type": "stream",
          "name": "stdout",
          "text": [
            "Input matrix\n",
            "--------------------------------\n",
            "[[ 1.  0. -3. -2.]\n",
            " [ 3.  1. -2.  5.]\n",
            " [ 2.  2.  1.  4.]]\n",
            "\n",
            "Process\n",
            "--------------------------------\n",
            "[[ 1.  0. -3. -2.]\n",
            " [ 0.  1.  7. 11.]\n",
            " [ 0.  2.  7.  8.]]\n",
            "\n",
            "[[  1.   0.  -3.  -2.]\n",
            " [  0.   1.   7.  11.]\n",
            " [  0.   0.  -7. -14.]]\n",
            "\n",
            "[[ 1.  0. -3. -2.]\n",
            " [ 0.  1.  7. 11.]\n",
            " [-0. -0.  1.  2.]]\n",
            "\n",
            "Answer\n",
            "--------------------------------\n",
            "[ 4. -3.  2.]\n"
          ]
        }
      ]
    },
    {
      "cell_type": "code",
      "source": [
        "arr = np.array([[1,-1,2,4], [1,0,1,6], [2,-3,5,4]]) # no solution\n",
        "print(gaussian_elimination(arr))"
      ],
      "metadata": {
        "colab": {
          "base_uri": "https://localhost:8080/"
        },
        "id": "jB7sW6fBOYrY",
        "outputId": "e3d01045-0368-426d-8e49-ec9769517dc0"
      },
      "execution_count": 47,
      "outputs": [
        {
          "output_type": "stream",
          "name": "stdout",
          "text": [
            "Input matrix\n",
            "--------------------------------\n",
            "[[ 1. -1.  2.  4.]\n",
            " [ 1.  0.  1.  6.]\n",
            " [ 2. -3.  5.  4.]]\n",
            "\n",
            "Process\n",
            "--------------------------------\n",
            "[[ 1. -1.  2.  4.]\n",
            " [ 0.  1. -1.  2.]\n",
            " [ 0. -1.  1. -4.]]\n",
            "\n",
            "[[ 1. -1.  2.  4.]\n",
            " [ 0.  1. -1.  2.]\n",
            " [ 0.  0.  0. -2.]]\n",
            "\n",
            "Answer\n",
            "--------------------------------\n",
            "no solution\n"
          ]
        }
      ]
    },
    {
      "cell_type": "code",
      "source": [
        "arr = np.array([[1,-1,2,4],[1,0,1,6],[2,-3,5,4],[3,2,-1,1]]) # no solution\n",
        "print(gaussian_elimination(arr))"
      ],
      "metadata": {
        "colab": {
          "base_uri": "https://localhost:8080/"
        },
        "id": "VXf90fufOdgF",
        "outputId": "58a69346-db05-4fbb-b2b3-bba183c4e86d"
      },
      "execution_count": 48,
      "outputs": [
        {
          "output_type": "stream",
          "name": "stdout",
          "text": [
            "Input matrix\n",
            "--------------------------------\n",
            "[[ 1. -1.  2.  4.]\n",
            " [ 1.  0.  1.  6.]\n",
            " [ 2. -3.  5.  4.]\n",
            " [ 3.  2. -1.  1.]]\n",
            "\n",
            "Process\n",
            "--------------------------------\n",
            "[[  1.  -1.   2.   4.]\n",
            " [  0.   1.  -1.   2.]\n",
            " [  0.  -1.   1.  -4.]\n",
            " [  0.   5.  -7. -11.]]\n",
            "\n",
            "[[  1.  -1.   2.   4.]\n",
            " [  0.   1.  -1.   2.]\n",
            " [  0.   0.   0.  -2.]\n",
            " [  0.   0.  -2. -21.]]\n",
            "\n",
            "Answer\n",
            "--------------------------------\n",
            "no solution\n"
          ]
        }
      ]
    },
    {
      "cell_type": "code",
      "source": [
        "arr = np.array([[1,-1,3,0],[2,1,3,0]])\n",
        "print(gaussian_elimination(arr))"
      ],
      "metadata": {
        "colab": {
          "base_uri": "https://localhost:8080/"
        },
        "id": "0JZPWdEvOgd7",
        "outputId": "79fdd1ad-39f8-4501-8a23-79f6fb18f080"
      },
      "execution_count": 49,
      "outputs": [
        {
          "output_type": "stream",
          "name": "stdout",
          "text": [
            "Input matrix\n",
            "--------------------------------\n",
            "[[ 1. -1.  3.  0.]\n",
            " [ 2.  1.  3.  0.]]\n",
            "\n",
            "Answer\n",
            "--------------------------------\n",
            "infinitely many solutions\n"
          ]
        }
      ]
    },
    {
      "cell_type": "code",
      "source": [
        "arr = np.array([[1,2,3,4],[2,4,6,8],[3,6,9,12]])\n",
        "print(gaussian_elimination(arr))"
      ],
      "metadata": {
        "colab": {
          "base_uri": "https://localhost:8080/"
        },
        "id": "pSVsbwQ1RN9W",
        "outputId": "b7b79a8f-9103-4070-f924-9bb867ce7417"
      },
      "execution_count": 50,
      "outputs": [
        {
          "output_type": "stream",
          "name": "stdout",
          "text": [
            "Input matrix\n",
            "--------------------------------\n",
            "[[ 1.  2.  3.  4.]\n",
            " [ 2.  4.  6.  8.]\n",
            " [ 3.  6.  9. 12.]]\n",
            "\n",
            "Process\n",
            "--------------------------------\n",
            "[[1. 2. 3. 4.]\n",
            " [0. 0. 0. 0.]\n",
            " [0. 0. 0. 0.]]\n",
            "\n",
            "Answer\n",
            "--------------------------------\n",
            "infinitely many solutions\n"
          ]
        }
      ]
    }
  ]
}